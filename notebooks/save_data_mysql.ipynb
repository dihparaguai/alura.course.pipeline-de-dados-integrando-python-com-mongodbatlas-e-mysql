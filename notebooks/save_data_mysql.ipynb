{
 "cells": [
  {
   "cell_type": "markdown",
   "metadata": {},
   "source": [
    "# Connecting to MySQL"
   ]
  },
  {
   "cell_type": "code",
   "execution_count": null,
   "metadata": {},
   "outputs": [],
   "source": [
    "import mysql.connector as ms\n",
    "\n",
    "# creates a connection to the mysql server\n",
    "conn = ms.connect(\n",
    "    host='localhost',\n",
    "    user='diego',\n",
    "    password='senha123'\n",
    ")\n",
    "\n",
    "# creates a cursor to execute sql commands\n",
    "cursor = conn.cursor()\n",
    "\n",
    "cursor"
   ]
  },
  {
   "cell_type": "markdown",
   "metadata": {},
   "source": [
    "# Creating a Database"
   ]
  },
  {
   "cell_type": "code",
   "execution_count": null,
   "metadata": {},
   "outputs": [],
   "source": [
    "cursor.execute('CREATE DATABASE IF NOT EXISTS db_produtos;')\n",
    "\n",
    "cursor.execute('SHOW DATABASES;')\n",
    "\n",
    "# must be run each item in the cursor\n",
    "[db for db in cursor]"
   ]
  },
  {
   "cell_type": "markdown",
   "metadata": {},
   "source": [
    "# Reading a CSV file and showing some informations"
   ]
  },
  {
   "cell_type": "code",
   "execution_count": null,
   "metadata": {},
   "outputs": [],
   "source": [
    "import pandas as pd\n",
    "\n",
    "# creates a dataframe using a csv file\n",
    "df = pd.read_csv('../data/produtos_categoria_livros.csv')\n",
    "\n",
    "# shows some informations\n",
    "print(f'nome das colunas:\\n{df.columns}')\n",
    "print(f'\\nquantidade de linhas e colunas:\\n{df.shape}')"
   ]
  },
  {
   "cell_type": "code",
   "execution_count": null,
   "metadata": {},
   "outputs": [],
   "source": [
    "# returns each row as a \"tuple\"\n",
    "data_sql = [tuple(row) for i, row in df.iterrows()]\n",
    "\n",
    "data_sql"
   ]
  },
  {
   "cell_type": "markdown",
   "metadata": {},
   "source": [
    "# Creating and Showing a table in MySQL to store data from CSV"
   ]
  },
  {
   "cell_type": "code",
   "execution_count": null,
   "metadata": {},
   "outputs": [],
   "source": [
    "cursor.execute('USE db_produtos;')\n",
    "\n",
    "# drops the table if it already exists\n",
    "cursor.execute('DROP TABLE IF EXISTS livros;')\n",
    "\n",
    "# sql command to create a table\n",
    "sql = \"\"\"    \n",
    "    CREATE TABLE livros (\n",
    "        id              VARCHAR(100),\n",
    "        produto         VARCHAR(100),\n",
    "        categoria       VARCHAR(100),\n",
    "        preco           DECIMAL(10,2),\n",
    "        frete           DECIMAL(10,2),\n",
    "        data_compra     DATE,\n",
    "        vendedor        VARCHAR(100),\n",
    "        local_compra    VARCHAR(100),\n",
    "        avaliacao       TINYINT,\n",
    "        tipo_pagamento  VARCHAR(100),\n",
    "        qtd_parcelas    TINYINT,\n",
    "        lat             FLOAT,\n",
    "        lon             FLOAT,\n",
    "        \n",
    "        PRIMARY KEY (id)\n",
    "    );\n",
    "\"\"\"\n",
    "\n",
    "cursor.execute(sql)\n",
    "\n",
    "cursor.execute('SHOW TABLES;')\n",
    "[tb for tb in cursor]"
   ]
  },
  {
   "cell_type": "code",
   "execution_count": null,
   "metadata": {},
   "outputs": [],
   "source": [
    "# sql command to insert multiples values into table in mysql\n",
    "# %s = placeholder that will be replaced by actual value\n",
    "sql = 'INSERT INTO livros VALUES (%s,%s,%s,%s,%s,%s,%s,%s,%s,%s,%s,%s,%s)'\n",
    "\n",
    "# to execute multiples commands, a connection commit is needed\n",
    "cursor.executemany(sql, data_sql)\n",
    "conn.commit()\n",
    "\n",
    "cursor.execute('SELECT * FROM livros')\n",
    "\n",
    "print(f'quantidade de tuplas na tabela \"livros\" do mysql:\\n{len([row for row in cursor])}')\n"
   ]
  },
  {
   "cell_type": "code",
   "execution_count": null,
   "metadata": {},
   "outputs": [],
   "source": [
    "cursor.execute('SELECT * FROM livros')\n",
    "\n",
    "print('dados da tabela \"livros\":')\n",
    "for row in cursor:\n",
    "    print(row)"
   ]
  },
  {
   "cell_type": "markdown",
   "metadata": {},
   "source": [
    "# Creating and Showing a another table in MySQL to store data from CSV"
   ]
  },
  {
   "cell_type": "code",
   "execution_count": null,
   "metadata": {},
   "outputs": [],
   "source": [
    "# creates a dataframe using a csv file\n",
    "df = pd.read_csv('../data/produtos_data_compra_maior_que_2020.csv')\n",
    "\n",
    "# shows some informations\n",
    "print(f'nome das colunas:\\n{df.columns}')\n",
    "print(f'\\nquantidade de linhas e colunas:\\n{df.shape}')"
   ]
  },
  {
   "cell_type": "code",
   "execution_count": null,
   "metadata": {},
   "outputs": [],
   "source": [
    "# returns each row as a \"tuple\"\n",
    "data_sql = [tuple(row) for i, row in df.iterrows()]\n",
    "\n",
    "data_sql"
   ]
  },
  {
   "cell_type": "code",
   "execution_count": null,
   "metadata": {},
   "outputs": [],
   "source": [
    "# drops the table if it already exists\n",
    "cursor.execute('DROP TABLE IF EXISTS data_maior_que_2020;')\n",
    "\n",
    "# sql command to create a table\n",
    "sql = \"\"\"    \n",
    "    CREATE TABLE data_maior_que_2020 (\n",
    "        id              VARCHAR(100),\n",
    "        produto         VARCHAR(100),\n",
    "        categoria       VARCHAR(100),\n",
    "        preco           DECIMAL(10,2),\n",
    "        frete           DECIMAL(10,2),\n",
    "        data_compra     DATE,\n",
    "        vendedor        VARCHAR(100),\n",
    "        local_compra    VARCHAR(100),\n",
    "        avaliacao       TINYINT,\n",
    "        tipo_pagamento  VARCHAR(100),\n",
    "        qtd_parcelas    TINYINT,\n",
    "        lat             FLOAT,\n",
    "        lon             FLOAT,\n",
    "        \n",
    "        PRIMARY KEY (id)\n",
    "    );\n",
    "\"\"\"\n",
    "\n",
    "cursor.execute(sql)\n",
    "\n",
    "cursor.execute('SHOW TABLES;')\n",
    "\n",
    "[tb for tb in cursor]"
   ]
  },
  {
   "cell_type": "code",
   "execution_count": null,
   "metadata": {},
   "outputs": [],
   "source": [
    "# sql command to insert multiples values into table in mysql\n",
    "# %s = placeholder that will be replaced by actual value\n",
    "sql = 'INSERT INTO data_maior_que_2020 VALUES (%s,%s,%s,%s,%s,%s,%s,%s,%s,%s,%s,%s,%s)'\n",
    "\n",
    "# to execute multiples commands, connection commit is needed\n",
    "cursor.executemany(sql, data_sql)\n",
    "conn.commit()\n",
    "\n",
    "cursor.execute('SELECT * FROM data_maior_que_2020')\n",
    "\n",
    "print(f'quantidade de tuplas na tabela \"data_maior_que_2020\" do mysql:\\n{len([row for row in cursor])}')"
   ]
  },
  {
   "cell_type": "code",
   "execution_count": null,
   "metadata": {},
   "outputs": [],
   "source": [
    "cursor.execute('SELECT * FROM data_maior_que_2020')\n",
    "\n",
    "print('dados da tabela \"data_maior_que_2020\":')\n",
    "for row in cursor:\n",
    "    print(row)"
   ]
  },
  {
   "cell_type": "markdown",
   "metadata": {},
   "source": [
    "# Closing the cursor and connection to MySQL"
   ]
  },
  {
   "cell_type": "code",
   "execution_count": null,
   "metadata": {},
   "outputs": [],
   "source": [
    "cursor.close()\n",
    "conn.close()"
   ]
  }
 ],
 "metadata": {
  "kernelspec": {
   "display_name": ".venv",
   "language": "python",
   "name": "python3"
  },
  "language_info": {
   "codemirror_mode": {
    "name": "ipython",
    "version": 3
   },
   "file_extension": ".py",
   "mimetype": "text/x-python",
   "name": "python",
   "nbconvert_exporter": "python",
   "pygments_lexer": "ipython3",
   "version": "3.10.12"
  }
 },
 "nbformat": 4,
 "nbformat_minor": 2
}
