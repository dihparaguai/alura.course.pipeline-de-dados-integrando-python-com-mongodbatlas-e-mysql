{
 "cells": [
  {
   "cell_type": "markdown",
   "metadata": {},
   "source": [
    "# Connecting to MySQL"
   ]
  },
  {
   "cell_type": "code",
   "execution_count": null,
   "metadata": {},
   "outputs": [],
   "source": [
    "import mysql.connector as ms\n",
    "\n",
    "# creates a connection to the mysql server\n",
    "conn = ms.connect(\n",
    "    host='localhost',\n",
    "    user='diego',\n",
    "    password='senha123'\n",
    ")\n",
    "\n",
    "# creates a cursor to execute sql commands\n",
    "cursor = conn.cursor()\n",
    "\n",
    "cursor"
   ]
  },
  {
   "cell_type": "markdown",
   "metadata": {},
   "source": [
    "# Creating a Database"
   ]
  },
  {
   "cell_type": "code",
   "execution_count": null,
   "metadata": {},
   "outputs": [],
   "source": [
    "cursor.execute('CREATE DATABASE IF NOT EXISTS db_produtos;')\n",
    "\n",
    "cursor.execute('SHOW DATABASES;')\n",
    "\n",
    "# must be run each item in the cursor\n",
    "[db for db in cursor]"
   ]
  },
  {
   "cell_type": "markdown",
   "metadata": {},
   "source": [
    "# Reading a CSV file and showing some informations"
   ]
  },
  {
   "cell_type": "code",
   "execution_count": null,
   "metadata": {},
   "outputs": [],
   "source": [
    "import pandas as pd\n",
    "\n",
    "# creates a dataframe using a csv file\n",
    "df = pd.read_csv('../data/produtos_categoria_livros.csv')\n",
    "\n",
    "# shows some informations\n",
    "print(f'nome das colunas:\\n{df.columns}')\n",
    "print(f'\\nquantidade de linhas e colunas:\\n{df.shape}')"
   ]
  },
  {
   "cell_type": "code",
   "execution_count": null,
   "metadata": {},
   "outputs": [],
   "source": [
    "# returns each row as a \"tuple\"\n",
    "data_sql = [tuple(row) for i, row in df.iterrows()]\n",
    "\n",
    "data_sql"
   ]
  }
 ],
 "metadata": {
  "kernelspec": {
   "display_name": ".venv",
   "language": "python",
   "name": "python3"
  },
  "language_info": {
   "codemirror_mode": {
    "name": "ipython",
    "version": 3
   },
   "file_extension": ".py",
   "mimetype": "text/x-python",
   "name": "python",
   "nbconvert_exporter": "python",
   "pygments_lexer": "ipython3",
   "version": "3.10.12"
  }
 },
 "nbformat": 4,
 "nbformat_minor": 2
}
